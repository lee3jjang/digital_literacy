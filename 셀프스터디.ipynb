{
 "cells": [
  {
   "cell_type": "markdown",
   "metadata": {},
   "source": [
    "개요\n",
    "---\n",
    "* (목적) `파이썬`을 이용해 엑셀 다루는 법 학습\n",
    "* (목적) 프로그램 (`.ipynb` 파일) 사용법 학습\n",
    "* (방법) \n",
    "* (산출물) "
   ]
  },
  {
   "cell_type": "markdown",
   "metadata": {},
   "source": [
    ".ipynb 파일\n",
    "---\n",
    "* `.ipynb` : 파이썬 코드가 저장된 파일  \n",
    "* 아래 코드가 들어있는 네모칸을 `셀(cell)`이라 하는데, 셀 위에 마우스를 갖다대면 그림처럼 재생버튼이 나타나고, 클릭 시 코드 실행\n",
    "* `[패키지(Pandas) 불러오기]` 셀 직접 실행해보기 (하단 체크표시로 완료여부 확인가능)\n",
    "\n",
    "![그림1](img/img1.png)"
   ]
  },
  {
   "cell_type": "code",
   "execution_count": 73,
   "metadata": {},
   "outputs": [
    {
     "name": "stdout",
     "output_type": "stream",
     "text": [
      "Requirement already satisfied: pandas in c:\\users\\administrator\\appdata\\local\\programs\\python\\python39\\lib\\site-packages (1.3.3)\n",
      "Requirement already satisfied: openpyxl in c:\\users\\administrator\\appdata\\local\\programs\\python\\python39\\lib\\site-packages (3.0.9)\n",
      "Requirement already satisfied: pytz>=2017.3 in c:\\users\\administrator\\appdata\\local\\programs\\python\\python39\\lib\\site-packages (from pandas) (2021.3)\n",
      "Requirement already satisfied: python-dateutil>=2.7.3 in c:\\users\\administrator\\appdata\\local\\programs\\python\\python39\\lib\\site-packages (from pandas) (2.8.2)\n",
      "Requirement already satisfied: numpy>=1.17.3 in c:\\users\\administrator\\appdata\\local\\programs\\python\\python39\\lib\\site-packages (from pandas) (1.21.2)\n",
      "Requirement already satisfied: et-xmlfile in c:\\users\\administrator\\appdata\\local\\programs\\python\\python39\\lib\\site-packages (from openpyxl) (1.1.0)"
     ]
    },
    {
     "name": "stderr",
     "output_type": "stream",
     "text": [
      "WARNING: You are using pip version 21.2.3; however, version 21.3 is available.\n",
      "You should consider upgrading via the 'C:\\Users\\Administrator\\AppData\\Local\\Programs\\Python\\Python39\\python.exe -m pip install --upgrade pip' command.\n"
     ]
    },
    {
     "name": "stdout",
     "output_type": "stream",
     "text": [
      "\n",
      "Requirement already satisfied: six>=1.5 in c:\\users\\administrator\\appdata\\local\\programs\\python\\python39\\lib\\site-packages (from python-dateutil>=2.7.3->pandas) (1.16.0)\n"
     ]
    }
   ],
   "source": [
    "#1. 패키지(Pandas) 설치 및 불러오기\n",
    "!pip install pandas openpyxl\n",
    "import pandas as pd"
   ]
  },
  {
   "cell_type": "code",
   "execution_count": 74,
   "metadata": {},
   "outputs": [
    {
     "data": {
      "text/html": [
       "<div>\n",
       "<style scoped>\n",
       "    .dataframe tbody tr th:only-of-type {\n",
       "        vertical-align: middle;\n",
       "    }\n",
       "\n",
       "    .dataframe tbody tr th {\n",
       "        vertical-align: top;\n",
       "    }\n",
       "\n",
       "    .dataframe thead tr th {\n",
       "        text-align: left;\n",
       "    }\n",
       "</style>\n",
       "<table border=\"1\" class=\"dataframe\">\n",
       "  <thead>\n",
       "    <tr>\n",
       "      <th></th>\n",
       "      <th>구분</th>\n",
       "      <th colspan=\"4\" halign=\"left\">보험료</th>\n",
       "      <th colspan=\"4\" halign=\"left\">지급보험금</th>\n",
       "    </tr>\n",
       "    <tr>\n",
       "      <th></th>\n",
       "      <th>연월</th>\n",
       "      <th>장기</th>\n",
       "      <th>일반</th>\n",
       "      <th>자동차</th>\n",
       "      <th>순외형</th>\n",
       "      <th>장기</th>\n",
       "      <th>일반</th>\n",
       "      <th>자동차</th>\n",
       "      <th>합계</th>\n",
       "    </tr>\n",
       "  </thead>\n",
       "  <tbody>\n",
       "    <tr>\n",
       "      <th>0</th>\n",
       "      <td>202101</td>\n",
       "      <td>7448</td>\n",
       "      <td>830</td>\n",
       "      <td>3300</td>\n",
       "      <td>11578</td>\n",
       "      <td>6308</td>\n",
       "      <td>620</td>\n",
       "      <td>2435</td>\n",
       "      <td>9363</td>\n",
       "    </tr>\n",
       "  </tbody>\n",
       "</table>\n",
       "</div>"
      ],
      "text/plain": [
       "       구분   보험료                   지급보험금                 \n",
       "       연월    장기   일반   자동차    순외형    장기   일반   자동차    합계\n",
       "0  202101  7448  830  3300  11578  6308  620  2435  9363"
      ]
     },
     "execution_count": 74,
     "metadata": {},
     "output_type": "execute_result"
    }
   ],
   "source": [
    "#2. 데이터 불러오기\n",
    "## 202101.xlsx 파일 불러오기 ▶▶▶ \"보험료보험금_2101\" 변수로 저장\n",
    "보험료보험금_2101 = pd.read_excel('data/202101.xlsx', header=[0, 1])\n",
    "보험료보험금_2101"
   ]
  }
 ],
 "metadata": {
  "interpreter": {
   "hash": "11f1dc213e07634baa4c5c321dec03c05dafae643c50f20e6d1a492290c05dc2"
  },
  "kernelspec": {
   "display_name": "Python 3.9.7 64-bit",
   "name": "python3"
  },
  "language_info": {
   "codemirror_mode": {
    "name": "ipython",
    "version": 3
   },
   "file_extension": ".py",
   "mimetype": "text/x-python",
   "name": "python",
   "nbconvert_exporter": "python",
   "pygments_lexer": "ipython3",
   "version": "3.9.7"
  },
  "orig_nbformat": 4
 },
 "nbformat": 4,
 "nbformat_minor": 2
}
